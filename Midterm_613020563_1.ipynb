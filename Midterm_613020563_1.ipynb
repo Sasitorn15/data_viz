{
  "nbformat": 4,
  "nbformat_minor": 0,
  "metadata": {
    "colab": {
      "name": "Midterm_613020563-1",
      "provenance": [],
      "authorship_tag": "ABX9TyNAqRd69EvY4rSj5iuYRgSN",
      "include_colab_link": true
    },
    "kernelspec": {
      "name": "python3",
      "display_name": "Python 3"
    }
  },
  "cells": [
    {
      "cell_type": "markdown",
      "metadata": {
        "id": "view-in-github",
        "colab_type": "text"
      },
      "source": [
        "<a href=\"https://colab.research.google.com/github/Sasitorn15/data_viz/blob/main/Midterm_613020563_1.ipynb\" target=\"_parent\"><img src=\"https://colab.research.google.com/assets/colab-badge.svg\" alt=\"Open In Colab\"/></a>"
      ]
    },
    {
      "cell_type": "markdown",
      "metadata": {
        "id": "YRHjPGovyT0-"
      },
      "source": [
        "**import**"
      ]
    },
    {
      "cell_type": "markdown",
      "metadata": {
        "id": "sGLwk4b9yZJ5"
      },
      "source": [
        "import labary"
      ]
    },
    {
      "cell_type": "code",
      "metadata": {
        "id": "fTGXJj6tyh1c"
      },
      "source": [
        "import panda as pd"
      ],
      "execution_count": null,
      "outputs": []
    },
    {
      "cell_type": "markdown",
      "metadata": {
        "id": "o0HEmLJMJ5bd"
      },
      "source": [
        "import data"
      ]
    },
    {
      "cell_type": "code",
      "metadata": {
        "id": "HJ31FXXz7DQu"
      },
      "source": [
        "from google.colab import drive\r\n",
        "drive.mount('/content/drive')"
      ],
      "execution_count": null,
      "outputs": []
    },
    {
      "cell_type": "code",
      "metadata": {
        "id": "IugcAs8QFwJa"
      },
      "source": [
        "#นำเข้าข้อมูลคะแนนในชั้นเรียน\r\n",
        "classroom = pd.read_excel('/content/4/1AY0e-g4A1ad6FdQDvQVltpkbhikSoAbtFNPSc9pjzKpa39fKnFXGCYPWKdk,sheet_name='Grade',skiprows=1)\r\n",
        "classroom.head()"
      ],
      "execution_count": null,
      "outputs": []
    },
    {
      "cell_type": "markdown",
      "metadata": {
        "id": "BjJTFsKcLEx0"
      },
      "source": [
        "#Data Cleansing#"
      ]
    },
    {
      "cell_type": "markdown",
      "metadata": {
        "id": "g4As_PyDLQug"
      },
      "source": [
        "ข้อมูลชุดที่ 1"
      ]
    },
    {
      "cell_type": "markdown",
      "metadata": {
        "id": "htlWBjs3LZ45"
      },
      "source": [
        "ข้อมูลชุดที่ 2"
      ]
    },
    {
      "cell_type": "code",
      "metadata": {
        "id": "L000KFY7L9rB"
      },
      "source": [
        "day0_1 = day0.fillna(method='ffill')\r\n",
        "day0_1.head()"
      ],
      "execution_count": null,
      "outputs": []
    },
    {
      "cell_type": "code",
      "metadata": {
        "id": "Pm128U7Q_znD"
      },
      "source": [
        "import os\r\n",
        "\r\n",
        "path = '/content/drive/My Drive/dataviz_2021_data'"
      ],
      "execution_count": 6,
      "outputs": []
    },
    {
      "cell_type": "code",
      "metadata": {
        "id": "pK5eAMD9IPvX"
      },
      "source": [
        "day0 = pd.read_excel('/content/คะแนนอาจารย์ที่ปรึกษา_rename,sheet_name=0,skiprows=1)\r\n",
        "day0.head()"
      ],
      "execution_count": null,
      "outputs": []
    },
    {
      "cell_type": "code",
      "metadata": {
        "id": "7s5EHkumIxxG"
      },
      "source": [
        ""
      ],
      "execution_count": null,
      "outputs": []
    },
    {
      "cell_type": "code",
      "metadata": {
        "colab": {
          "base_uri": "https://localhost:8080/"
        },
        "id": "BTu9Ftzx_5Dm",
        "outputId": "1ae85744-3eb9-48d8-8d40-3fe5164c4d60"
      },
      "source": [
        "คะแนนอาจารย์ที่ปรึกษา_file_path = os.path.join(path,'pm-18-feb-2021.csv') \r\n",
        "print(คะแนนอาจารย์ที่ปรึกษา_file_path)"
      ],
      "execution_count": 7,
      "outputs": [
        {
          "output_type": "stream",
          "text": [
            "/content/drive/My Drive/dataviz_2021_data/pm-18-feb-2021.csv\n"
          ],
          "name": "stdout"
        }
      ]
    },
    {
      "cell_type": "code",
      "metadata": {
        "id": "SHapIgQuANPu"
      },
      "source": [
        "a = path + '/pm-18-feb-2021.csv' \r\n",
        "print(a)"
      ],
      "execution_count": null,
      "outputs": []
    },
    {
      "cell_type": "markdown",
      "metadata": {
        "id": "KQdUUqC7AXmM"
      },
      "source": [
        "load data memory"
      ]
    },
    {
      "cell_type": "code",
      "metadata": {
        "id": "VA3OtafFAdUa"
      },
      "source": [
        "คะแนนอาจารย์ที่ปรึกษา_renamed = pd.read_csv(คะแนนอาจารย์ที่ปรึกษา_file_path)\r\n",
        "data_คะแนนอาจารย์ที่ปรึกษา"
      ],
      "execution_count": null,
      "outputs": []
    },
    {
      "cell_type": "markdown",
      "metadata": {
        "id": "6lwCiIWRSyNa"
      },
      "source": [
        "#รวมคะแนนในไฟล์ทั้งหมด#"
      ]
    },
    {
      "cell_type": "code",
      "metadata": {
        "id": "30EacS79S8_G"
      },
      "source": [
        ""
      ],
      "execution_count": null,
      "outputs": []
    },
    {
      "cell_type": "code",
      "metadata": {
        "id": "tt7E_xxKXNaI"
      },
      "source": [
        "#แก้ missing value ของ กรรมการสอบ\r\n",
        "present_Day_1 = present_Day1.fillna(method='ffill')\r\n",
        "present_Day_2 = present_Day2.fillna(method='ffill')\r\n"
      ],
      "execution_count": null,
      "outputs": []
    },
    {
      "cell_type": "code",
      "metadata": {
        "id": "PKokuanOXRuW"
      },
      "source": [
        "#เรียกดูข้อมูล\r\n",
        "present_Day_1.head()"
      ],
      "execution_count": null,
      "outputs": []
    },
    {
      "cell_type": "code",
      "metadata": {
        "id": "r9k5o7wcXVMA"
      },
      "source": [
        "#เลือกเฉพาะ Column ที่สนใจ\r\n",
        "presentDay1 = present_Day_1[['นักศึกษา','กรรมการสอบ','รวม']]\r\n",
        "presentDay2 = present_Day_2[['นักศึกษา','กรรมการสอบ','รวม']]\r\n"
      ],
      "execution_count": null,
      "outputs": []
    },
    {
      "cell_type": "markdown",
      "metadata": {
        "id": "TxN-jIPtXj2G"
      },
      "source": [
        "#Calculate"
      ]
    },
    {
      "cell_type": "code",
      "metadata": {
        "id": "b1OkXRQwX98C"
      },
      "source": [
        "def cal_adjusted_score(z_score):\r\n",
        "    return round(30 + ((-15*(z_score-2.3103448275862064))/(-4.788052880847054)),2)"
      ],
      "execution_count": null,
      "outputs": []
    },
    {
      "cell_type": "code",
      "metadata": {
        "id": "CUwsnjtfX_DM"
      },
      "source": [
        ""
      ],
      "execution_count": null,
      "outputs": []
    },
    {
      "cell_type": "code",
      "metadata": {
        "id": "ux2ioUHkXcmK"
      },
      "source": [
        ""
      ],
      "execution_count": null,
      "outputs": []
    },
    {
      "cell_type": "markdown",
      "metadata": {
        "id": "76yG1x4pBDMa"
      },
      "source": [
        "#ชี้ค่าในตาราง#"
      ]
    },
    {
      "cell_type": "code",
      "metadata": {
        "id": "gcimve4ABP_0"
      },
      "source": [
        ".iloc"
      ],
      "execution_count": null,
      "outputs": []
    },
    {
      "cell_type": "code",
      "metadata": {
        "id": "-ZaIbwdLBlnX"
      },
      "source": [
        "ตัดมาเฉพาะค่าที่ต้องการ"
      ],
      "execution_count": null,
      "outputs": []
    },
    {
      "cell_type": "code",
      "metadata": {
        "id": "Oa6Kyl-kBq8N"
      },
      "source": [
        "การชี้ค่าในตารางด้วย data_คะแนนสอบปากเปล่า[x] ค่า x สามารถมีค่าที่ใส่เข้าไปได้ 2 แบบ\r\n",
        "\r\n",
        "ชื่อ column\r\n",
        "ใส่ rows ที่ต้องการ (ใส่ list ที่มีขนาดเท่ากับจำนวนแถว แล้วบอกว่าเอา แถวไหนบ้างโดยใช้ logical expression (True/False))"
      ],
      "execution_count": null,
      "outputs": []
    },
    {
      "cell_type": "code",
      "metadata": {
        "id": "VX8isUKRCTgI"
      },
      "source": [
        ""
      ],
      "execution_count": null,
      "outputs": []
    },
    {
      "cell_type": "markdown",
      "metadata": {
        "id": "VgLxShxRyymv"
      },
      "source": [
        "Import Data "
      ]
    },
    {
      "cell_type": "code",
      "metadata": {
        "colab": {
          "base_uri": "https://localhost:8080/",
          "height": 310
        },
        "id": "IPrCXGmny6AT",
        "outputId": "aa3876b4-a3c9-4af3-965b-220921ee6a1b"
      },
      "source": [
        "from google.colab import drive\r\n",
        "drive.mount('https://docs.google.com/spreadsheets/d/1rw5EhVVT7ZYsnfftxU1zKUaGr799nYA6/edit#gid=244549548')"
      ],
      "execution_count": 2,
      "outputs": [
        {
          "output_type": "error",
          "ename": "ValueError",
          "evalue": "ignored",
          "traceback": [
            "\u001b[0;31m---------------------------------------------------------------------------\u001b[0m",
            "\u001b[0;31mValueError\u001b[0m                                Traceback (most recent call last)",
            "\u001b[0;32m<ipython-input-2-0caf4f2289b6>\u001b[0m in \u001b[0;36m<module>\u001b[0;34m()\u001b[0m\n\u001b[1;32m      1\u001b[0m \u001b[0;32mfrom\u001b[0m \u001b[0mgoogle\u001b[0m\u001b[0;34m.\u001b[0m\u001b[0mcolab\u001b[0m \u001b[0;32mimport\u001b[0m \u001b[0mdrive\u001b[0m\u001b[0;34m\u001b[0m\u001b[0;34m\u001b[0m\u001b[0m\n\u001b[0;32m----> 2\u001b[0;31m \u001b[0mdrive\u001b[0m\u001b[0;34m.\u001b[0m\u001b[0mmount\u001b[0m\u001b[0;34m(\u001b[0m\u001b[0;34m'https://docs.google.com/spreadsheets/d/1rw5EhVVT7ZYsnfftxU1zKUaGr799nYA6/edit#gid=244549548'\u001b[0m\u001b[0;34m)\u001b[0m\u001b[0;34m\u001b[0m\u001b[0;34m\u001b[0m\u001b[0m\n\u001b[0m",
            "\u001b[0;32m/usr/local/lib/python3.6/dist-packages/google/colab/drive.py\u001b[0m in \u001b[0;36mmount\u001b[0;34m(mountpoint, force_remount, timeout_ms, use_metadata_server)\u001b[0m\n\u001b[1;32m    163\u001b[0m     \u001b[0mnormed\u001b[0m \u001b[0;34m=\u001b[0m \u001b[0m_os\u001b[0m\u001b[0;34m.\u001b[0m\u001b[0mpath\u001b[0m\u001b[0;34m.\u001b[0m\u001b[0mnormpath\u001b[0m\u001b[0;34m(\u001b[0m\u001b[0mmountpoint\u001b[0m\u001b[0;34m)\u001b[0m\u001b[0;34m\u001b[0m\u001b[0;34m\u001b[0m\u001b[0m\n\u001b[1;32m    164\u001b[0m     \u001b[0;32mif\u001b[0m \u001b[0;34m'/'\u001b[0m \u001b[0;32min\u001b[0m \u001b[0mnormed\u001b[0m \u001b[0;32mand\u001b[0m \u001b[0;32mnot\u001b[0m \u001b[0m_os\u001b[0m\u001b[0;34m.\u001b[0m\u001b[0mpath\u001b[0m\u001b[0;34m.\u001b[0m\u001b[0mexists\u001b[0m\u001b[0;34m(\u001b[0m\u001b[0m_os\u001b[0m\u001b[0;34m.\u001b[0m\u001b[0mpath\u001b[0m\u001b[0;34m.\u001b[0m\u001b[0mdirname\u001b[0m\u001b[0;34m(\u001b[0m\u001b[0mnormed\u001b[0m\u001b[0;34m)\u001b[0m\u001b[0;34m)\u001b[0m\u001b[0;34m:\u001b[0m\u001b[0;34m\u001b[0m\u001b[0;34m\u001b[0m\u001b[0m\n\u001b[0;32m--> 165\u001b[0;31m       \u001b[0;32mraise\u001b[0m \u001b[0mValueError\u001b[0m\u001b[0;34m(\u001b[0m\u001b[0;34m'Mountpoint must be in a directory that exists'\u001b[0m\u001b[0;34m)\u001b[0m\u001b[0;34m\u001b[0m\u001b[0;34m\u001b[0m\u001b[0m\n\u001b[0m\u001b[1;32m    166\u001b[0m   \u001b[0;32mexcept\u001b[0m\u001b[0;34m:\u001b[0m\u001b[0;34m\u001b[0m\u001b[0;34m\u001b[0m\u001b[0m\n\u001b[1;32m    167\u001b[0m     \u001b[0md\u001b[0m\u001b[0;34m.\u001b[0m\u001b[0mkill\u001b[0m\u001b[0;34m(\u001b[0m\u001b[0m_signal\u001b[0m\u001b[0;34m.\u001b[0m\u001b[0mSIGKILL\u001b[0m\u001b[0;34m)\u001b[0m\u001b[0;34m\u001b[0m\u001b[0;34m\u001b[0m\u001b[0m\n",
            "\u001b[0;31mValueError\u001b[0m: Mountpoint must be in a directory that exists"
          ]
        }
      ]
    },
    {
      "cell_type": "code",
      "metadata": {
        "id": "Yrcgwtfz1Tp8"
      },
      "source": [
        "import os"
      ],
      "execution_count": null,
      "outputs": []
    },
    {
      "cell_type": "code",
      "metadata": {
        "id": "vTLb0q_v1V4I"
      },
      "source": [
        "all_aj_list = set(list(day0_1['กรรมการสอบ'].dropna()))\r\n",
        "all_aj_list"
      ],
      "execution_count": null,
      "outputs": []
    },
    {
      "cell_type": "code",
      "metadata": {
        "id": "uCUHpjfn18BX"
      },
      "source": [
        "def cal_adjusted_score(z_score):\r\n",
        "    return round(30 + ((-15*(z_score-2.3103448275862064))/(-4.788052880847054)),2)"
      ],
      "execution_count": 3,
      "outputs": []
    },
    {
      "cell_type": "code",
      "metadata": {
        "id": "mQBUyVTZQoUG"
      },
      "source": [
        "d = [{'advisor':'tha','name':'skimpy-magenta-bombay','adv_score':90,'pres_score':99,'class_score':100},\r\n",
        "     {'advisor':'tha','name':'flimsy-lemon-budgerigar','adv_score':93,'pres_score':100,'class_score':100},\r\n",
        "     {'advisor':'wan','name':'randy-gamboge-blue','adv_score':95,'pres_score':87,'class_score':100},\r\n",
        "     {'advisor':'wan','name':'chummy-goldenrod-walrus','adv_score':97,'pres_score':90,'class_score':90}]\r\n",
        "this = pd.DataFrame(d)\r\n",
        "this"
      ],
      "execution_count": null,
      "outputs": []
    },
    {
      "cell_type": "code",
      "metadata": {
        "id": "01pDM7h8QvAF"
      },
      "source": [
        "pd.plotting.parallel_coordinates(this,'advisor',cols=['adv_score','pres_score','class_score']);\r\n"
      ],
      "execution_count": null,
      "outputs": []
    },
    {
      "cell_type": "markdown",
      "metadata": {
        "id": "YwwT9irg9bK6"
      },
      "source": [
        "# Load data memory"
      ]
    },
    {
      "cell_type": "code",
      "metadata": {
        "id": "AMhrMrb09tEo"
      },
      "source": [
        "data_คะแนนสอบปากเปล่าของกรรมการสอบ = pd.read_csv(คะแนนสอบปากเปล่า_file_path)\r\n",
        "data_คะแนนสอบปากเปล่าของกรรมการสอบ"
      ],
      "execution_count": null,
      "outputs": []
    },
    {
      "cell_type": "markdown",
      "metadata": {
        "id": "EFAMCbkQDCS7"
      },
      "source": [
        "การจัดการ Missing Value\r\n",
        "\r\n",
        "ลบ record ที่เป็น missing\r\n",
        "แทนที่ ค่า missing ด้วยค่าที่เหมาะสม mean, default, category-unknown\r\n",
        "ใช้ ค่าจาก columns อื่นๆ ช่วยประมาณค่า ค่าใน column ที่หายไป (regression, deep learning, etc.)\r\n",
        "ลบ record (dropna)"
      ]
    },
    {
      "cell_type": "markdown",
      "metadata": {
        "id": "J9cmH7BWDQnM"
      },
      "source": [
        "แทน missing ด้วยค่าที่เหมาะสม (fillna)"
      ]
    },
    {
      "cell_type": "code",
      "metadata": {
        "id": "Ii996kJmDT5x"
      },
      "source": [
        ""
      ],
      "execution_count": null,
      "outputs": []
    },
    {
      "cell_type": "markdown",
      "metadata": {
        "id": "ka1iMl0uDO3M"
      },
      "source": [
        ""
      ]
    }
  ]
}