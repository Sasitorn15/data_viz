{
  "nbformat": 4,
  "nbformat_minor": 0,
  "metadata": {
    "colab": {
      "name": "More advanced data structure.ipynb",
      "provenance": [],
      "authorship_tag": "ABX9TyMa68dHplK9lCAYVAIlmv3P",
      "include_colab_link": true
    },
    "kernelspec": {
      "name": "python3",
      "display_name": "Python 3"
    }
  },
  "cells": [
    {
      "cell_type": "markdown",
      "metadata": {
        "id": "view-in-github",
        "colab_type": "text"
      },
      "source": [
        "<a href=\"https://colab.research.google.com/github/Sasitorn15/data_viz/blob/main/More_advanced_data_structure.ipynb\" target=\"_parent\"><img src=\"https://colab.research.google.com/assets/colab-badge.svg\" alt=\"Open In Colab\"/></a>"
      ]
    },
    {
      "cell_type": "markdown",
      "metadata": {
        "id": "hq2U_nyUpMaS"
      },
      "source": [
        "Dictionary\r\n",
        "\r\n",
        "สามารถ index ด้วยอะไรก็ได้ แต่ลำดับจะหายไป"
      ]
    },
    {
      "cell_type": "code",
      "metadata": {
        "id": "XyMzS3l_pZN4"
      },
      "source": [
        "ex_dict = {'a' :10, '1' :1, 'stat' :5}  #curly brackets ในการบอกว่าเป็น dict"
      ],
      "execution_count": 2,
      "outputs": []
    },
    {
      "cell_type": "code",
      "metadata": {
        "colab": {
          "base_uri": "https://localhost:8080/"
        },
        "id": "fJWW2Kilpxwn",
        "outputId": "fd17557e-551d-4639-84c3-335485d15ce4"
      },
      "source": [
        "ex_dict['stat']"
      ],
      "execution_count": 3,
      "outputs": [
        {
          "output_type": "execute_result",
          "data": {
            "text/plain": [
              "5"
            ]
          },
          "metadata": {
            "tags": []
          },
          "execution_count": 3
        }
      ]
    },
    {
      "cell_type": "code",
      "metadata": {
        "colab": {
          "base_uri": "https://localhost:8080/",
          "height": 164
        },
        "id": "OG0FXDzxqHUM",
        "outputId": "37464fba-172f-42f2-cae0-f83f031367cb"
      },
      "source": [
        "ex_dict[10]"
      ],
      "execution_count": 4,
      "outputs": [
        {
          "output_type": "error",
          "ename": "KeyError",
          "evalue": "ignored",
          "traceback": [
            "\u001b[0;31m---------------------------------------------------------------------------\u001b[0m",
            "\u001b[0;31mKeyError\u001b[0m                                  Traceback (most recent call last)",
            "\u001b[0;32m<ipython-input-4-008be89af7ca>\u001b[0m in \u001b[0;36m<module>\u001b[0;34m()\u001b[0m\n\u001b[0;32m----> 1\u001b[0;31m \u001b[0mex_dict\u001b[0m\u001b[0;34m[\u001b[0m\u001b[0;36m10\u001b[0m\u001b[0;34m]\u001b[0m\u001b[0;34m\u001b[0m\u001b[0;34m\u001b[0m\u001b[0m\n\u001b[0m",
            "\u001b[0;31mKeyError\u001b[0m: 10"
          ]
        }
      ]
    },
    {
      "cell_type": "code",
      "metadata": {
        "id": "NcUichUfqR-Y"
      },
      "source": [
        "ex2_dict = {1: 'one' , 2: 'two' , 3: 'three'}"
      ],
      "execution_count": 5,
      "outputs": []
    },
    {
      "cell_type": "code",
      "metadata": {
        "colab": {
          "base_uri": "https://localhost:8080/",
          "height": 34
        },
        "id": "RroP3k_pqyKs",
        "outputId": "f17c6463-9e84-4406-a000-8a0b16dc7e62"
      },
      "source": [
        "ex2_dict[2]"
      ],
      "execution_count": 6,
      "outputs": [
        {
          "output_type": "execute_result",
          "data": {
            "application/vnd.google.colaboratory.intrinsic+json": {
              "type": "string"
            },
            "text/plain": [
              "'two'"
            ]
          },
          "metadata": {
            "tags": []
          },
          "execution_count": 6
        }
      ]
    },
    {
      "cell_type": "markdown",
      "metadata": {
        "id": "IzUp9-6Cq5Fs"
      },
      "source": [
        "การเพิ่มสมาชิกใน dict"
      ]
    },
    {
      "cell_type": "code",
      "metadata": {
        "id": "DKxOdN8xq-JZ"
      },
      "source": [
        "ex2_dict[0] = 'zero'"
      ],
      "execution_count": 9,
      "outputs": []
    },
    {
      "cell_type": "code",
      "metadata": {
        "colab": {
          "base_uri": "https://localhost:8080/"
        },
        "id": "bWA__rwhrFeQ",
        "outputId": "271f73ff-c178-455a-e4c2-0fd49b8a2e6d"
      },
      "source": [
        "ex2_dict"
      ],
      "execution_count": 10,
      "outputs": [
        {
          "output_type": "execute_result",
          "data": {
            "text/plain": [
              "{0: 'zero', 1: 'one', 2: 'two', 3: 'three'}"
            ]
          },
          "metadata": {
            "tags": []
          },
          "execution_count": 10
        }
      ]
    },
    {
      "cell_type": "markdown",
      "metadata": {
        "id": "x3vESuetrPAX"
      },
      "source": [
        "คำสั่ง"
      ]
    },
    {
      "cell_type": "code",
      "metadata": {
        "colab": {
          "base_uri": "https://localhost:8080/"
        },
        "id": "XcxOFQtErRU6",
        "outputId": "8bd953d4-87a4-435d-a0ba-9b118e576fc1"
      },
      "source": [
        "ex2_dict.keys()"
      ],
      "execution_count": 12,
      "outputs": [
        {
          "output_type": "execute_result",
          "data": {
            "text/plain": [
              "dict_keys([1, 2, 3, 0])"
            ]
          },
          "metadata": {
            "tags": []
          },
          "execution_count": 12
        }
      ]
    },
    {
      "cell_type": "code",
      "metadata": {
        "colab": {
          "base_uri": "https://localhost:8080/"
        },
        "id": "cepQ5_HTrXgK",
        "outputId": "4a73105e-0cdc-45fb-a8c7-be3db5e30b28"
      },
      "source": [
        "for index in ex2_dict.keys() :\r\n",
        "     print(index)"
      ],
      "execution_count": 13,
      "outputs": [
        {
          "output_type": "stream",
          "text": [
            "1\n",
            "2\n",
            "3\n",
            "0\n"
          ],
          "name": "stdout"
        }
      ]
    },
    {
      "cell_type": "code",
      "metadata": {
        "colab": {
          "base_uri": "https://localhost:8080/"
        },
        "id": "IN55l2Jmr0dC",
        "outputId": "82102e82-8ffb-4512-88e9-d2d06662364e"
      },
      "source": [
        "ex2_dict.values()"
      ],
      "execution_count": 14,
      "outputs": [
        {
          "output_type": "execute_result",
          "data": {
            "text/plain": [
              "dict_values(['one', 'two', 'three', 'zero'])"
            ]
          },
          "metadata": {
            "tags": []
          },
          "execution_count": 14
        }
      ]
    },
    {
      "cell_type": "code",
      "metadata": {
        "colab": {
          "base_uri": "https://localhost:8080/"
        },
        "id": "5YUEAKrCtB30",
        "outputId": "34477d10-7f58-4713-b8ea-e222694d5b75"
      },
      "source": [
        "index"
      ],
      "execution_count": 15,
      "outputs": [
        {
          "output_type": "execute_result",
          "data": {
            "text/plain": [
              "0"
            ]
          },
          "metadata": {
            "tags": []
          },
          "execution_count": 15
        }
      ]
    },
    {
      "cell_type": "markdown",
      "metadata": {
        "id": "I-ieR0DBtIY7"
      },
      "source": [
        "dict เอาไปใช้ร่วมกับ Dataframe ของ pandas"
      ]
    },
    {
      "cell_type": "code",
      "metadata": {
        "id": "Sku9NbtktSoP"
      },
      "source": [
        "numpy คือ package ที่ทำงานเกี่ยวกับ array ของตัวเลข (ที่มีคนเขียนขึ้นมาและนิยมใช้)\r\n",
        "\r\n",
        "numpy -> number python"
      ],
      "execution_count": null,
      "outputs": []
    },
    {
      "cell_type": "code",
      "metadata": {
        "id": "8hmtQiK1u-xY"
      },
      "source": [
        "import numpy "
      ],
      "execution_count": null,
      "outputs": []
    },
    {
      "cell_type": "markdown",
      "metadata": {
        "id": "K4NyRT47vZYy"
      },
      "source": [
        "สร้าง numpy array"
      ]
    },
    {
      "cell_type": "code",
      "metadata": {
        "colab": {
          "base_uri": "https://localhost:8080/",
          "height": 130
        },
        "id": "al76_HCSvixa",
        "outputId": "87c99168-056a-43ab-ecd9-dfddf8af6771"
      },
      "source": [
        "ex_2d_array = numpy .array([[5.2,3.0,4.5],[9.1,0.1,0.3]])\r\n",
        "    print(ex_2d_array)"
      ],
      "execution_count": 17,
      "outputs": [
        {
          "output_type": "error",
          "ename": "IndentationError",
          "evalue": "ignored",
          "traceback": [
            "\u001b[0;36m  File \u001b[0;32m\"<ipython-input-17-048086430323>\"\u001b[0;36m, line \u001b[0;32m2\u001b[0m\n\u001b[0;31m    print(ex_2d_array)\u001b[0m\n\u001b[0m    ^\u001b[0m\n\u001b[0;31mIndentationError\u001b[0m\u001b[0;31m:\u001b[0m unexpected indent\n"
          ]
        }
      ]
    },
    {
      "cell_type": "markdown",
      "metadata": {
        "id": "fJDbJRqVwPNf"
      },
      "source": [
        "การชี้ค่าใน numpy array"
      ]
    },
    {
      "cell_type": "code",
      "metadata": {
        "id": "9arcXNlhwUZ2"
      },
      "source": [
        "ex_2d_array[1,2]"
      ],
      "execution_count": null,
      "outputs": []
    },
    {
      "cell_type": "code",
      "metadata": {
        "id": "qdxRfEBIwjiY"
      },
      "source": [
        "list_x = [[5.2,3.0,4.5],[9.1,0.1,0.3]] #การชี้ list\r\n",
        "\r\n",
        "   print(len(list_x))\r\n",
        "\r\n",
        "   print(list_x[1])\r\n",
        "\r\n",
        "   print(list_x[1][2])"
      ],
      "execution_count": null,
      "outputs": []
    },
    {
      "cell_type": "markdown",
      "metadata": {
        "id": "AsWyN5iEx-M-"
      },
      "source": [
        "##Operation"
      ]
    },
    {
      "cell_type": "code",
      "metadata": {
        "colab": {
          "base_uri": "https://localhost:8080/",
          "height": 130
        },
        "id": "EiT0rpSpyE72",
        "outputId": "112b5f8c-2479-45b4-99d1-70a3797e88e3"
      },
      "source": [
        "ex2_2d_array = numpy .array([[1,0,0],[0,0,1]]])\r\n",
        "print(ex2_2d_array)\r\n",
        "print(ex_2d_array)"
      ],
      "execution_count": 19,
      "outputs": [
        {
          "output_type": "error",
          "ename": "SyntaxError",
          "evalue": "ignored",
          "traceback": [
            "\u001b[0;36m  File \u001b[0;32m\"<ipython-input-19-47b16e6af170>\"\u001b[0;36m, line \u001b[0;32m1\u001b[0m\n\u001b[0;31m    ex2_2d_array = numpy .array([[1,0,0],[0,0,1]]])\u001b[0m\n\u001b[0m                                                 ^\u001b[0m\n\u001b[0;31mSyntaxError\u001b[0m\u001b[0;31m:\u001b[0m invalid syntax\n"
          ]
        }
      ]
    },
    {
      "cell_type": "code",
      "metadata": {
        "id": "sSUwwfstysMm"
      },
      "source": [
        "ex_sd_array .shap #ตรวจสอบขนาดของ matrix"
      ],
      "execution_count": null,
      "outputs": []
    },
    {
      "cell_type": "code",
      "metadata": {
        "id": "-ejIASbJy4K4"
      },
      "source": [
        "ex_2d_array + ex2_2d_array"
      ],
      "execution_count": null,
      "outputs": []
    },
    {
      "cell_type": "code",
      "metadata": {
        "colab": {
          "base_uri": "https://localhost:8080/"
        },
        "id": "ShGZ3oa-zNKl",
        "outputId": "80f1087a-eeb2-4b83-8cc0-0f5ba0334d84"
      },
      "source": [
        "list_x = [[5.2,3.0,4.5],[9.1,0.1,0.3]] \r\n",
        "list_x2 = [[1,0,0],[0,0,1]] \r\n",
        "\r\n",
        "list_x + list_x2"
      ],
      "execution_count": 20,
      "outputs": [
        {
          "output_type": "execute_result",
          "data": {
            "text/plain": [
              "[[5.2, 3.0, 4.5], [9.1, 0.1, 0.3], [1, 0, 0], [0, 0, 1]]"
            ]
          },
          "metadata": {
            "tags": []
          },
          "execution_count": 20
        }
      ]
    },
    {
      "cell_type": "markdown",
      "metadata": {
        "id": "Q--O3krD0XOI"
      },
      "source": [
        "matrix multiplication"
      ]
    },
    {
      "cell_type": "code",
      "metadata": {
        "colab": {
          "base_uri": "https://localhost:8080/",
          "height": 164
        },
        "id": "yA1-oJmD1Y0y",
        "outputId": "0afa4f45-dfc0-4c74-dd8a-400ab32cffdd"
      },
      "source": [
        "ex_2d_array - ex2_2d_array"
      ],
      "execution_count": 24,
      "outputs": [
        {
          "output_type": "error",
          "ename": "NameError",
          "evalue": "ignored",
          "traceback": [
            "\u001b[0;31m---------------------------------------------------------------------------\u001b[0m",
            "\u001b[0;31mNameError\u001b[0m                                 Traceback (most recent call last)",
            "\u001b[0;32m<ipython-input-24-3d1d6e44e8c7>\u001b[0m in \u001b[0;36m<module>\u001b[0;34m()\u001b[0m\n\u001b[0;32m----> 1\u001b[0;31m \u001b[0mex_2d_array\u001b[0m \u001b[0;34m-\u001b[0m \u001b[0mex2_2d_array\u001b[0m\u001b[0;34m\u001b[0m\u001b[0;34m\u001b[0m\u001b[0m\n\u001b[0m",
            "\u001b[0;31mNameError\u001b[0m: name 'ex_2d_array' is not defined"
          ]
        }
      ]
    },
    {
      "cell_type": "code",
      "metadata": {
        "id": "zhCCvIeZzn1h"
      },
      "source": [
        "ex_2d_array * ex2_2d_array #การคูณแบบ array เอาตำแหน่งเดียวกันมาคูณกัน"
      ],
      "execution_count": null,
      "outputs": []
    },
    {
      "cell_type": "code",
      "metadata": {
        "id": "3EX-EGe82Ghw"
      },
      "source": [
        "print(ex_2d_array)\r\n",
        "print(ex_2d_array.T)"
      ],
      "execution_count": null,
      "outputs": []
    },
    {
      "cell_type": "code",
      "metadata": {
        "id": "3xa-sfba2Tjq"
      },
      "source": [
        "dot_mat = numpy. dot(ex_2d_array, ex2_2d_array.T)\r\n",
        "    print(dot.mat)"
      ],
      "execution_count": null,
      "outputs": []
    },
    {
      "cell_type": "code",
      "metadata": {
        "id": "Vt_AR7Pw3b-2"
      },
      "source": [
        "numpy.linalg.det(dot_mat)"
      ],
      "execution_count": null,
      "outputs": []
    },
    {
      "cell_type": "markdown",
      "metadata": {
        "id": "SpD6Kuur4A7Y"
      },
      "source": [
        "search google -> stackoverflow หรือ web ของ package สำหรับ operation อื่นๆ"
      ]
    },
    {
      "cell_type": "markdown",
      "metadata": {
        "id": "WxwybZmq4WYZ"
      },
      "source": [
        "### matrix slicing "
      ]
    },
    {
      "cell_type": "markdown",
      "metadata": {
        "id": "vkeWfyWf4d-0"
      },
      "source": [
        "้HW 5 เขียน function คูณ matrix\r\n",
        "\r\n",
        "แล้ว test กับ matrix\r\n",
        "\r\n",
        "- (2,3)*(3,2)\r\n",
        "- (4,4)*(4,1)\r\n",
        "- (2,2)*(2,2)"
      ]
    },
    {
      "cell_type": "code",
      "metadata": {
        "id": "GuLGcBzs5DKV"
      },
      "source": [
        ""
      ],
      "execution_count": null,
      "outputs": []
    }
  ]
}