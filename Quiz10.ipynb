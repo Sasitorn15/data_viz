{
  "nbformat": 4,
  "nbformat_minor": 0,
  "metadata": {
    "colab": {
      "name": "Quiz10.ipynb",
      "provenance": [],
      "authorship_tag": "ABX9TyO4XKF7S9zjHyWi9pV0DDh5",
      "include_colab_link": true
    },
    "kernelspec": {
      "name": "python3",
      "display_name": "Python 3"
    }
  },
  "cells": [
    {
      "cell_type": "markdown",
      "metadata": {
        "id": "view-in-github",
        "colab_type": "text"
      },
      "source": [
        "<a href=\"https://colab.research.google.com/github/Sasitorn15/data_viz/blob/main/Quiz10.ipynb\" target=\"_parent\"><img src=\"https://colab.research.google.com/assets/colab-badge.svg\" alt=\"Open In Colab\"/></a>"
      ]
    },
    {
      "cell_type": "code",
      "metadata": {
        "id": "MwC9qJs29HYq"
      },
      "source": [
        ""
      ],
      "execution_count": null,
      "outputs": []
    },
    {
      "cell_type": "markdown",
      "metadata": {
        "id": "kf0YQdpZ9QSz"
      },
      "source": [
        "หนูโหลดข้อมูลมาแล้วตรงภาษากับตัวเลขมันเพี้ยนไปค่ะอาจารย์ "
      ]
    },
    {
      "cell_type": "markdown",
      "metadata": {
        "id": "ZybvPWvp9PAM"
      },
      "source": [
        ""
      ]
    }
  ]
}