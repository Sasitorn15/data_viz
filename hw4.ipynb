{
  "nbformat": 4,
  "nbformat_minor": 0,
  "metadata": {
    "colab": {
      "name": "Untitled4.ipynb",
      "provenance": [],
      "authorship_tag": "ABX9TyNrgAIYOAtHHh2HWLQjnJC8",
      "include_colab_link": true
    },
    "kernelspec": {
      "name": "python3",
      "display_name": "Python 3"
    }
  },
  "cells": [
    {
      "cell_type": "markdown",
      "metadata": {
        "id": "view-in-github",
        "colab_type": "text"
      },
      "source": [
        "<a href=\"https://colab.research.google.com/github/Sasitorn15/data_viz/blob/main/hw4.ipynb\" target=\"_parent\"><img src=\"https://colab.research.google.com/assets/colab-badge.svg\" alt=\"Open In Colab\"/></a>"
      ]
    },
    {
      "cell_type": "code",
      "metadata": {
        "id": "dNtmpItEU47g"
      },
      "source": [
        ""
      ],
      "execution_count": null,
      "outputs": []
    },
    {
      "cell_type": "markdown",
      "metadata": {
        "id": "JrSBVNl-U593"
      },
      "source": [
        "HW\r\n",
        "การบ้านที่ 4\r\n",
        "\r\n",
        "โจทย์\r\n",
        "เขียน function ตัดเกรด โดยที่ input เป็นคะแนน(0-100) , output เป็นเกรด (F-A)\r\n",
        "\r\n",
        "วนลูปตัดเกรด input = [1,50,65,90,101,-5,49]\r\n",
        "\r\n",
        "กำหนด\r\n",
        "\r\n",
        "  ถ้าคะแนนอยู่ระหว่างมากกว่าหรือเท่ากับ  0  แต่น้อยกว่า 50 จะได้เกรด F\r\n",
        "\r\n",
        "  ถ้าคะแนนอยู่ระหว่างมากกว่าหรือเท่ากับ 50 แต่น้อยกว่า 55 จะได้เกรด D\r\n",
        "\r\n",
        "  ถ้าคะแนนอยู่ระหว่างมากกว่าหรือเท่ากับ 55 แต่น้อยกว่า 60 จะได้เกรด D+\r\n",
        "\r\n",
        "  ถ้าคะแนนอยู่ระหว่างมากกว่าหรือเท่ากับ 60 แต่น้อยกว่า 65 จะได้เกรด C\r\n",
        "\r\n",
        "  ถ้าคะแนนอยู่ระหว่างมากกว่าหรือเท่ากับ 65 แต่น้อยกว่า 70 จะได้เกรด C+\r\n",
        "\r\n",
        "  ถ้าคะแนนอยู่ระหว่างมากกว่าหรือเท่ากับ 70 แต่น้อยกว่า 75 จะได้เกรด B\r\n",
        "\r\n",
        "  ถ้าคะแนนอยู่ระหว่างมากกว่าหรือเท่ากับ 75 แต่น้อยกว่า 80 จะได้เกรด B+\r\n",
        "\r\n",
        "  ถ้าคะแนนอยู่ระหว่างมากกว่าหรือเท่ากับ 80  จะได้เกรด A\r\n",
        "\r\n",
        "  แต่ว่าค่าคะแนนจะต้องไม่ต่ำกว่า 0 และมากกว่า 100 ไม่งั้นจะเกิด error\r\n"
      ]
    },
    {
      "cell_type": "code",
      "metadata": {
        "id": "SWYqsloRVD-c"
      },
      "source": [
        "def cal_grade(score):\r\n",
        "  if score < 0 :\r\n",
        "    print(f'error: กรอกคะแนนผิด')\r\n",
        "  if score >= 0 and score < 50:\r\n",
        "    print(f'นักศึกษาคนนี้มีคะแนน {score} จะได้เกรด F')\r\n",
        "  if score >= 50 and score < 55:\r\n",
        "    print(f'นักศึกษาคนนี้มีคะแนน {score} จะได้เกรด D')\r\n",
        "  if score >= 55 and score < 60:\r\n",
        "    print(f'นักศึกษาคนนี้มีคะแนน {score} จะได้เกรด D+')\r\n",
        "  if score >= 60 and score < 65:\r\n",
        "    print(f'นักศึกษาคนนี้มีคะแนน {score} จะได้เกรด C')\r\n",
        "  if score >= 65 and score < 70:\r\n",
        "    print(f'นักศึกษาคนนี้มีคะแนน {score} จะได้เกรด C+')\r\n",
        "  if score >= 70 and score < 75:\r\n",
        "    print(f'นักศึกษาคนนี้มีคะแนน {score} จะได้เกรด B')\r\n",
        "  if score >= 75 and score < 80:\r\n",
        "    print(f'นักศึกษาคนนี้มีคะแนน {score} จะได้เกรด B+')\r\n",
        "  if score >= 80 and score < 100:\r\n",
        "    print(f'นักศึกษาคนนี้มีคะแนน {score} จะได้เกรด A')\r\n",
        "  if score >= 100 :\r\n",
        "    print(f'error: กรอกคะแนนผิด')"
      ],
      "execution_count": 2,
      "outputs": []
    },
    {
      "cell_type": "markdown",
      "metadata": {
        "id": "8mPPx0CpVXbL"
      },
      "source": [
        "คำนวณเกรด"
      ]
    },
    {
      "cell_type": "code",
      "metadata": {
        "id": "TCinImYcVaHi"
      },
      "source": [
        "input = [1,50,65,90,101,-5,49]"
      ],
      "execution_count": 4,
      "outputs": []
    },
    {
      "cell_type": "code",
      "metadata": {
        "colab": {
          "base_uri": "https://localhost:8080/"
        },
        "id": "P2zpE6rVVhU3",
        "outputId": "b0bb8447-5aa6-47d8-8005-d63b72e18eab"
      },
      "source": [
        "\r\n",
        "for score in input:\r\n",
        "  cal_grade(score)"
      ],
      "execution_count": 7,
      "outputs": [
        {
          "output_type": "stream",
          "text": [
            "นักศึกษาคนนี้มีคะแนน 1 จะได้เกรด F\n",
            "นักศึกษาคนนี้มีคะแนน 50 จะได้เกรด D\n",
            "นักศึกษาคนนี้มีคะแนน 65 จะได้เกรด C+\n",
            "นักศึกษาคนนี้มีคะแนน 90 จะได้เกรด A\n",
            "error: กรอกคะแนนผิด\n",
            "error: กรอกคะแนนผิด\n",
            "นักศึกษาคนนี้มีคะแนน 49 จะได้เกรด F\n"
          ],
          "name": "stdout"
        }
      ]
    }
  ]
}