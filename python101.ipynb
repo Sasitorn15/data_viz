{
  "nbformat": 4,
  "nbformat_minor": 0,
  "metadata": {
    "colab": {
      "name": "Untitled1.ipynb",
      "provenance": [],
      "authorship_tag": "ABX9TyNIacZg5cGheykSzInSNY8E",
      "include_colab_link": true
    },
    "kernelspec": {
      "name": "python3",
      "display_name": "Python 3"
    }
  },
  "cells": [
    {
      "cell_type": "markdown",
      "metadata": {
        "id": "view-in-github",
        "colab_type": "text"
      },
      "source": [
        "<a href=\"https://colab.research.google.com/github/Sasitorn15/data_viz/blob/main/python101.ipynb\" target=\"_parent\"><img src=\"https://colab.research.google.com/assets/colab-badge.svg\" alt=\"Open In Colab\"/></a>"
      ]
    },
    {
      "cell_type": "markdown",
      "metadata": {
        "id": "-4HtONkKzqou"
      },
      "source": [
        ""
      ]
    },
    {
      "cell_type": "markdown",
      "metadata": {
        "id": "ZE2khz3ZtAcI"
      },
      "source": [
        "HW2\r\n",
        "\r\n",
        "คำนวณเวลาเป็นวินาทีของเวลาต่อไปนี้โดยใช้คำสั่ง split() ช่วย\r\n",
        "\r\n",
        "12:30:15\r\n",
        "\r\n",
        "13:41:07\r\n",
        "\r\n",
        "12:53:15\r\n",
        "\r\n",
        "00:59:25\r\n",
        "\r\n",
        "11:11:11\r\n",
        "\r\n",
        "16:06:09"
      ]
    },
    {
      "cell_type": "code",
      "metadata": {
        "id": "ZREaSXCJtuAh"
      },
      "source": [
        "time = \"12:30:15\"  ##ข้อที่1"
      ],
      "execution_count": 8,
      "outputs": []
    },
    {
      "cell_type": "code",
      "metadata": {
        "colab": {
          "base_uri": "https://localhost:8080/"
        },
        "id": "SmKkTkSYulh8",
        "outputId": "ecce2c91-87d6-458e-d5ec-1516dc97a106"
      },
      "source": [
        "time.split(\":\")"
      ],
      "execution_count": 9,
      "outputs": [
        {
          "output_type": "execute_result",
          "data": {
            "text/plain": [
              "['12', '30', '15']"
            ]
          },
          "metadata": {
            "tags": []
          },
          "execution_count": 9
        }
      ]
    },
    {
      "cell_type": "markdown",
      "metadata": {
        "id": "IdgZLtvMuu-0"
      },
      "source": [
        ""
      ]
    },
    {
      "cell_type": "code",
      "metadata": {
        "colab": {
          "base_uri": "https://localhost:8080/"
        },
        "id": "dsG8J7AhuuSG",
        "outputId": "7873c65a-8216-4998-95d5-a7a36ec0c579"
      },
      "source": [
        "\r\n",
        "len(time)"
      ],
      "execution_count": 10,
      "outputs": [
        {
          "output_type": "execute_result",
          "data": {
            "text/plain": [
              "8"
            ]
          },
          "metadata": {
            "tags": []
          },
          "execution_count": 10
        }
      ]
    },
    {
      "cell_type": "code",
      "metadata": {
        "colab": {
          "base_uri": "https://localhost:8080/"
        },
        "id": "T5R5xn5Pvdk3",
        "outputId": "2f9025e8-8898-495f-a797-6ec7ce225fd9"
      },
      "source": [
        "a = (time[0:2])\r\n",
        "print(a)"
      ],
      "execution_count": 11,
      "outputs": [
        {
          "output_type": "stream",
          "text": [
            "12\n"
          ],
          "name": "stdout"
        }
      ]
    },
    {
      "cell_type": "code",
      "metadata": {
        "colab": {
          "base_uri": "https://localhost:8080/"
        },
        "id": "xsnaiuipvkVU",
        "outputId": "909310ce-c176-4cce-8714-bb3a1fa53b6d"
      },
      "source": [
        "b = (time[3:5])\r\n",
        "print(b)"
      ],
      "execution_count": 12,
      "outputs": [
        {
          "output_type": "stream",
          "text": [
            "30\n"
          ],
          "name": "stdout"
        }
      ]
    },
    {
      "cell_type": "code",
      "metadata": {
        "colab": {
          "base_uri": "https://localhost:8080/"
        },
        "id": "xJpgh4LivqNa",
        "outputId": "0a1ad669-4d12-4069-a746-387b1dd04b6d"
      },
      "source": [
        "\r\n",
        "c =  (time[6:8])\r\n",
        "print(c)"
      ],
      "execution_count": 13,
      "outputs": [
        {
          "output_type": "stream",
          "text": [
            "15\n"
          ],
          "name": "stdout"
        }
      ]
    },
    {
      "cell_type": "code",
      "metadata": {
        "colab": {
          "base_uri": "https://localhost:8080/"
        },
        "id": "f3LQjA2XvvHz",
        "outputId": "538fafef-e452-41cc-dadf-3f16dd7e0659"
      },
      "source": [
        "int(a)*60*60+int(b)*60+int(c)"
      ],
      "execution_count": 14,
      "outputs": [
        {
          "output_type": "execute_result",
          "data": {
            "text/plain": [
              "45015"
            ]
          },
          "metadata": {
            "tags": []
          },
          "execution_count": 14
        }
      ]
    },
    {
      "cell_type": "code",
      "metadata": {
        "id": "-TFiZGDnwa1W"
      },
      "source": [
        "\r\n",
        "time1 = \"13:41:07\" ##ข้อที่2"
      ],
      "execution_count": 16,
      "outputs": []
    },
    {
      "cell_type": "code",
      "metadata": {
        "colab": {
          "base_uri": "https://localhost:8080/"
        },
        "id": "iVmllGNnws32",
        "outputId": "b3b00c5e-58fc-4fc2-a557-979cfeb245a7"
      },
      "source": [
        "time1.split(\":\")"
      ],
      "execution_count": 17,
      "outputs": [
        {
          "output_type": "execute_result",
          "data": {
            "text/plain": [
              "['13', '41', '07']"
            ]
          },
          "metadata": {
            "tags": []
          },
          "execution_count": 17
        }
      ]
    },
    {
      "cell_type": "code",
      "metadata": {
        "colab": {
          "base_uri": "https://localhost:8080/"
        },
        "id": "0zk-xfg3wzK9",
        "outputId": "c8c14f40-a32a-4ac4-990c-98ffc1b73ccd"
      },
      "source": [
        "\r\n",
        "list_a = time1.split(\":\")\r\n",
        "print(list_a)"
      ],
      "execution_count": 18,
      "outputs": [
        {
          "output_type": "stream",
          "text": [
            "['13', '41', '07']\n"
          ],
          "name": "stdout"
        }
      ]
    },
    {
      "cell_type": "code",
      "metadata": {
        "colab": {
          "base_uri": "https://localhost:8080/"
        },
        "id": "f35_62cGw5d3",
        "outputId": "c895ad4b-1ca6-4db8-d0e9-f6da81f5a467"
      },
      "source": [
        "int(list_a[0])*60*60+int(list_a[1])*60+int(list_a[2])"
      ],
      "execution_count": 19,
      "outputs": [
        {
          "output_type": "execute_result",
          "data": {
            "text/plain": [
              "49267"
            ]
          },
          "metadata": {
            "tags": []
          },
          "execution_count": 19
        }
      ]
    },
    {
      "cell_type": "code",
      "metadata": {
        "id": "opl22im3w9-G"
      },
      "source": [
        "time2 = \"12:53:15\" ##ข้อที่3"
      ],
      "execution_count": 28,
      "outputs": []
    },
    {
      "cell_type": "code",
      "metadata": {
        "colab": {
          "base_uri": "https://localhost:8080/"
        },
        "id": "2W40S2VZxczR",
        "outputId": "95e0612b-93ff-4ead-aedc-e709e3c4cc9d"
      },
      "source": [
        "list_b = time2.split(\":\")\r\n",
        "print(list_b)"
      ],
      "execution_count": 29,
      "outputs": [
        {
          "output_type": "stream",
          "text": [
            "['12', '53', '15']\n"
          ],
          "name": "stdout"
        }
      ]
    },
    {
      "cell_type": "code",
      "metadata": {
        "colab": {
          "base_uri": "https://localhost:8080/"
        },
        "id": "qKIotcEMy0MW",
        "outputId": "da03162f-98c3-4178-e678-173360d16dab"
      },
      "source": [
        "int(list_b[0])*60*60+int(list_b[1])*60+int(list_b[2])"
      ],
      "execution_count": 30,
      "outputs": [
        {
          "output_type": "execute_result",
          "data": {
            "text/plain": [
              "46395"
            ]
          },
          "metadata": {
            "tags": []
          },
          "execution_count": 30
        }
      ]
    },
    {
      "cell_type": "code",
      "metadata": {
        "colab": {
          "base_uri": "https://localhost:8080/"
        },
        "id": "prGNYIJxzEUL",
        "outputId": "a5587795-cee2-412d-e5c0-f38398f9f004"
      },
      "source": [
        "\r\n",
        "time5 = \"00:59:25\" ##ข้อที่4\r\n",
        "list_e = time5.split(\":\")\r\n",
        "print(list_e)"
      ],
      "execution_count": 31,
      "outputs": [
        {
          "output_type": "stream",
          "text": [
            "['00', '59', '25']\n"
          ],
          "name": "stdout"
        }
      ]
    },
    {
      "cell_type": "code",
      "metadata": {
        "colab": {
          "base_uri": "https://localhost:8080/"
        },
        "id": "_OnJWSKtzJ1f",
        "outputId": "4b74abe4-b902-423a-c763-03f519481c8c"
      },
      "source": [
        "int(list_e[0])*60*60+int(list_e[1])*60+int(list_e[2])"
      ],
      "execution_count": 32,
      "outputs": [
        {
          "output_type": "execute_result",
          "data": {
            "text/plain": [
              "3565"
            ]
          },
          "metadata": {
            "tags": []
          },
          "execution_count": 32
        }
      ]
    },
    {
      "cell_type": "code",
      "metadata": {
        "colab": {
          "base_uri": "https://localhost:8080/"
        },
        "id": "ZNJP1fFBzNz-",
        "outputId": "c5276224-8b22-4935-ef55-e1efb97d95cd"
      },
      "source": [
        "time3 = \"11:11:11\" ##ข้อที่5\r\n",
        "list_c = time3.split(\":\")\r\n",
        "print(list_c)"
      ],
      "execution_count": 33,
      "outputs": [
        {
          "output_type": "stream",
          "text": [
            "['11', '11', '11']\n"
          ],
          "name": "stdout"
        }
      ]
    },
    {
      "cell_type": "code",
      "metadata": {
        "colab": {
          "base_uri": "https://localhost:8080/"
        },
        "id": "o0LT7RBkzUte",
        "outputId": "e4ea03a5-32e1-427d-eb0d-fbe2fdcacf9e"
      },
      "source": [
        "int(list_c[0])*60*60+int(list_c[1])*60+int(list_c[2])"
      ],
      "execution_count": 34,
      "outputs": [
        {
          "output_type": "execute_result",
          "data": {
            "text/plain": [
              "40271"
            ]
          },
          "metadata": {
            "tags": []
          },
          "execution_count": 34
        }
      ]
    },
    {
      "cell_type": "code",
      "metadata": {
        "colab": {
          "base_uri": "https://localhost:8080/"
        },
        "id": "_VDI6VGRzXRL",
        "outputId": "1949670e-fe4c-4eea-963c-28e909dadff4"
      },
      "source": [
        "time4 = \"16:06:09\" ##ข้อที่6\r\n",
        "list_d = time4.split(\":\")\r\n",
        "print(list_d)"
      ],
      "execution_count": 35,
      "outputs": [
        {
          "output_type": "stream",
          "text": [
            "['16', '06', '09']\n"
          ],
          "name": "stdout"
        }
      ]
    },
    {
      "cell_type": "code",
      "metadata": {
        "colab": {
          "base_uri": "https://localhost:8080/"
        },
        "id": "6pYv4AsJza8e",
        "outputId": "6cae7869-8ce5-4e41-ee67-1f0b022bd81b"
      },
      "source": [
        "int(list_d[0])*60*60+int(list_d[1])*60+int(list_d[2])"
      ],
      "execution_count": 36,
      "outputs": [
        {
          "output_type": "execute_result",
          "data": {
            "text/plain": [
              "57969"
            ]
          },
          "metadata": {
            "tags": []
          },
          "execution_count": 36
        }
      ]
    }
  ]
}