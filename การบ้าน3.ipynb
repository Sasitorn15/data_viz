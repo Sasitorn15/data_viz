{
  "nbformat": 4,
  "nbformat_minor": 0,
  "metadata": {
    "colab": {
      "name": "Untitled2.ipynb",
      "provenance": [],
      "authorship_tag": "ABX9TyN86aNKGtrjQ43fw1ddzptM",
      "include_colab_link": true
    },
    "kernelspec": {
      "name": "python3",
      "display_name": "Python 3"
    }
  },
  "cells": [
    {
      "cell_type": "markdown",
      "metadata": {
        "id": "view-in-github",
        "colab_type": "text"
      },
      "source": [
        "<a href=\"https://colab.research.google.com/github/Sasitorn15/data_viz/blob/main/%E0%B8%81%E0%B8%B2%E0%B8%A3%E0%B8%9A%E0%B9%89%E0%B8%B2%E0%B8%993.ipynb\" target=\"_parent\"><img src=\"https://colab.research.google.com/assets/colab-badge.svg\" alt=\"Open In Colab\"/></a>"
      ]
    },
    {
      "cell_type": "code",
      "metadata": {
        "id": "tFmsA74q21oX"
      },
      "source": [
        "def time_p(time) :\r\n",
        "  list_time=time.split(':')\r\n",
        "  hr=int(list_time[0])*3600\r\n",
        "  min=int(list_time[1])*60\r\n",
        "  sec=int(list_time[2])\r\n",
        "  T=f'เวลา {time} = {hr+min+sec} วินาที'\r\n",
        "  print(T)"
      ],
      "execution_count": 1,
      "outputs": []
    },
    {
      "cell_type": "code",
      "metadata": {
        "colab": {
          "base_uri": "https://localhost:8080/"
        },
        "id": "Co2JrPY14plr",
        "outputId": "29dac7c7-2aba-4a8d-e37e-c29eb808c5ce"
      },
      "source": [
        "time_p('12:30:15')\r\n",
        "time_p( '13:41:07' )\r\n",
        "time_p( '12:53:15' )\r\n",
        "time_p( '00:59:25' )\r\n",
        "time_p( '11:11:11' )\r\n",
        "time_p( '16:06:09' )"
      ],
      "execution_count": 2,
      "outputs": [
        {
          "output_type": "stream",
          "text": [
            "เวลา 12:30:15 = 45015 วินาที\n",
            "เวลา 13:41:07 = 49267 วินาที\n",
            "เวลา 12:53:15 = 46395 วินาที\n",
            "เวลา 00:59:25 = 3565 วินาที\n",
            "เวลา 11:11:11 = 40271 วินาที\n",
            "เวลา 16:06:09 = 57969 วินาที\n"
          ],
          "name": "stdout"
        }
      ]
    },
    {
      "cell_type": "code",
      "metadata": {
        "id": "l0G4X5FN5BKs"
      },
      "source": [
        "list_timea = ['12:30:15' , '13:41:07' , '12:53:15' , '00:59:25' , '11:11:11' , '16:06:09']"
      ],
      "execution_count": 3,
      "outputs": []
    },
    {
      "cell_type": "code",
      "metadata": {
        "colab": {
          "base_uri": "https://localhost:8080/"
        },
        "id": "YfBa8daK5RPS",
        "outputId": "1342309c-d3b9-4799-e346-cdf6c14c97f4"
      },
      "source": [
        "for i in list_timea :\r\n",
        "  time_p(i)"
      ],
      "execution_count": 5,
      "outputs": [
        {
          "output_type": "stream",
          "text": [
            "เวลา 12:30:15 = 45015 วินาที\n",
            "เวลา 13:41:07 = 49267 วินาที\n",
            "เวลา 12:53:15 = 46395 วินาที\n",
            "เวลา 00:59:25 = 3565 วินาที\n",
            "เวลา 11:11:11 = 40271 วินาที\n",
            "เวลา 16:06:09 = 57969 วินาที\n"
          ],
          "name": "stdout"
        }
      ]
    }
  ]
}