{
  "nbformat": 4,
  "nbformat_minor": 0,
  "metadata": {
    "colab": {
      "name": "Untitled5.ipynb",
      "provenance": [],
      "authorship_tag": "ABX9TyNwW5GVJ6blTazzxMbyoWRa",
      "include_colab_link": true
    },
    "kernelspec": {
      "name": "python3",
      "display_name": "Python 3"
    }
  },
  "cells": [
    {
      "cell_type": "markdown",
      "metadata": {
        "id": "view-in-github",
        "colab_type": "text"
      },
      "source": [
        "<a href=\"https://colab.research.google.com/github/Sasitorn15/data_viz/blob/main/%E0%B8%81%E0%B8%B2%E0%B8%A3%E0%B8%9A%E0%B9%89%E0%B8%B2%E0%B8%995.ipynb\" target=\"_parent\"><img src=\"https://colab.research.google.com/assets/colab-badge.svg\" alt=\"Open In Colab\"/></a>"
      ]
    },
    {
      "cell_type": "markdown",
      "metadata": {
        "id": "IIKgks_mm9tt"
      },
      "source": [
        "การบ้าน 5"
      ]
    },
    {
      "cell_type": "markdown",
      "metadata": {
        "id": "VQ5ZmRLLsNwc"
      },
      "source": [
        "matrix slicing\r\n",
        "้HW 5 เขียน function คูณ matrix\r\n",
        "\r\n",
        "แล้ว test กับ matrix\r\n",
        "\r\n",
        "## (2,3)*(3,2)\r\n",
        "## (4,4)*(4,1)\r\n",
        "## (2,2)*(2,2)"
      ]
    },
    {
      "cell_type": "code",
      "metadata": {
        "id": "JvuC1RHbsTF6"
      },
      "source": [
        "import numpy as np"
      ],
      "execution_count": 16,
      "outputs": []
    },
    {
      "cell_type": "code",
      "metadata": {
        "colab": {
          "base_uri": "https://localhost:8080/"
        },
        "id": "LpyJSAtttX1e",
        "outputId": "48b124fd-db38-43cc-9da5-45e9fc5b68fd"
      },
      "source": [
        "#Matrix 2*3\r\n",
        "mat_A = np.array([[1,4,2],[2,8,7]])\r\n",
        "mat_A"
      ],
      "execution_count": 17,
      "outputs": [
        {
          "output_type": "execute_result",
          "data": {
            "text/plain": [
              "array([[1, 4, 2],\n",
              "       [2, 8, 7]])"
            ]
          },
          "metadata": {
            "tags": []
          },
          "execution_count": 17
        }
      ]
    },
    {
      "cell_type": "code",
      "metadata": {
        "colab": {
          "base_uri": "https://localhost:8080/"
        },
        "id": "9lkpMedivtF0",
        "outputId": "8876e4e7-82bd-4b58-cef9-f8e9f974b4b9"
      },
      "source": [
        "#Matrix 3*2\r\n",
        "mat_B = np.array([[4,2],[6,8],[2,1]])\r\n",
        "mat_B"
      ],
      "execution_count": 18,
      "outputs": [
        {
          "output_type": "execute_result",
          "data": {
            "text/plain": [
              "array([[4, 2],\n",
              "       [6, 8],\n",
              "       [2, 1]])"
            ]
          },
          "metadata": {
            "tags": []
          },
          "execution_count": 18
        }
      ]
    },
    {
      "cell_type": "code",
      "metadata": {
        "colab": {
          "base_uri": "https://localhost:8080/"
        },
        "id": "9uOSK3A8vuf9",
        "outputId": "a852c16c-92b3-4700-d4dc-f33389c6d521"
      },
      "source": [
        "#Matrix 4*4\r\n",
        "mat_C = np.array([[1,5,4,3],[5,2,1,4],[9,6,2,4],[1,3,2,4]])\r\n",
        "mat_C"
      ],
      "execution_count": 19,
      "outputs": [
        {
          "output_type": "execute_result",
          "data": {
            "text/plain": [
              "array([[1, 5, 4, 3],\n",
              "       [5, 2, 1, 4],\n",
              "       [9, 6, 2, 4],\n",
              "       [1, 3, 2, 4]])"
            ]
          },
          "metadata": {
            "tags": []
          },
          "execution_count": 19
        }
      ]
    },
    {
      "cell_type": "code",
      "metadata": {
        "colab": {
          "base_uri": "https://localhost:8080/"
        },
        "id": "EaiFoTH6wFDy",
        "outputId": "fb11d0f0-7b27-4b35-bf80-d0a4c47917f3"
      },
      "source": [
        "#Matrix 4*1\r\n",
        "mat_D = np.array([[1],[4],[5],[7]])\r\n",
        "mat_D"
      ],
      "execution_count": 20,
      "outputs": [
        {
          "output_type": "execute_result",
          "data": {
            "text/plain": [
              "array([[1],\n",
              "       [4],\n",
              "       [5],\n",
              "       [7]])"
            ]
          },
          "metadata": {
            "tags": []
          },
          "execution_count": 20
        }
      ]
    },
    {
      "cell_type": "code",
      "metadata": {
        "colab": {
          "base_uri": "https://localhost:8080/"
        },
        "id": "rPc4AKm4wOJm",
        "outputId": "183412fd-d863-49df-e748-0b48811090b1"
      },
      "source": [
        "\r\n",
        "#Matrix 2*2 \r\n",
        "mat_E = np.array([[5,1],[4,2]])\r\n",
        "mat_E"
      ],
      "execution_count": 21,
      "outputs": [
        {
          "output_type": "execute_result",
          "data": {
            "text/plain": [
              "array([[5, 1],\n",
              "       [4, 2]])"
            ]
          },
          "metadata": {
            "tags": []
          },
          "execution_count": 21
        }
      ]
    },
    {
      "cell_type": "code",
      "metadata": {
        "colab": {
          "base_uri": "https://localhost:8080/"
        },
        "id": "cSpNnZN5wTbn",
        "outputId": "bc760af4-c5d7-4ae7-ae42-2c7b1d555dff"
      },
      "source": [
        "mat_F = np.array([[1,8],[7,3]])\r\n",
        "mat_F"
      ],
      "execution_count": 22,
      "outputs": [
        {
          "output_type": "execute_result",
          "data": {
            "text/plain": [
              "array([[1, 8],\n",
              "       [7, 3]])"
            ]
          },
          "metadata": {
            "tags": []
          },
          "execution_count": 22
        }
      ]
    },
    {
      "cell_type": "code",
      "metadata": {
        "id": "hZyMaBRNl7-I"
      },
      "source": [
        "def mul_mat(A, B):\r\n",
        "    C = [[0 for row in range(len(B[0]))] for col in range(len(A))]\r\n",
        "    for i in range(len(A)):\r\n",
        "        for j in range(len(B[0])):\r\n",
        "            for k in range(len(B)):\r\n",
        "                C[i][j] += A[i][k]*B[k][j]\r\n",
        "    r = np.matrix(C)\r\n",
        "    return r"
      ],
      "execution_count": 37,
      "outputs": []
    },
    {
      "cell_type": "code",
      "metadata": {
        "colab": {
          "base_uri": "https://localhost:8080/"
        },
        "id": "jnTW5KpzmjqZ",
        "outputId": "645d430c-1fdb-4764-ce68-7a4ab5a6485d"
      },
      "source": [
        "mul_mat(mat_A,mat_B)  #ข้อ1"
      ],
      "execution_count": 38,
      "outputs": [
        {
          "output_type": "execute_result",
          "data": {
            "text/plain": [
              "matrix([[32, 36],\n",
              "        [70, 75]])"
            ]
          },
          "metadata": {
            "tags": []
          },
          "execution_count": 38
        }
      ]
    },
    {
      "cell_type": "code",
      "metadata": {
        "colab": {
          "base_uri": "https://localhost:8080/"
        },
        "id": "O5UMaIy0moXw",
        "outputId": "cfc8729d-d366-4f05-8903-0f18c4257a3b"
      },
      "source": [
        "mul_mat(mat_C,mat_D)   #ข้อ2"
      ],
      "execution_count": 29,
      "outputs": [
        {
          "output_type": "execute_result",
          "data": {
            "text/plain": [
              "matrix([[62],\n",
              "        [46],\n",
              "        [71],\n",
              "        [51]])"
            ]
          },
          "metadata": {
            "tags": []
          },
          "execution_count": 29
        }
      ]
    },
    {
      "cell_type": "code",
      "metadata": {
        "colab": {
          "base_uri": "https://localhost:8080/"
        },
        "id": "rgJablDpmsXb",
        "outputId": "26c32dee-8b06-4d5b-e3f4-77f223ef31eb"
      },
      "source": [
        "mul_mat(mat_C,mat_D) #ข้อ3"
      ],
      "execution_count": 39,
      "outputs": [
        {
          "output_type": "execute_result",
          "data": {
            "text/plain": [
              "matrix([[62],\n",
              "        [46],\n",
              "        [71],\n",
              "        [51]])"
            ]
          },
          "metadata": {
            "tags": []
          },
          "execution_count": 39
        }
      ]
    },
    {
      "cell_type": "code",
      "metadata": {
        "id": "7oNOwenFmUVi"
      },
      "source": [
        ""
      ],
      "execution_count": null,
      "outputs": []
    }
  ]
}